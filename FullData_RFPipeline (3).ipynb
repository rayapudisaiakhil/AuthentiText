{
 "cells": [
  {
   "cell_type": "code",
   "execution_count": 1,
   "metadata": {
    "id": "RD4dRQDM_5Jq"
   },
   "outputs": [],
   "source": [
    "import numpy as np\n",
    "import pandas as pd\n",
    "import warnings\n",
    "\n",
    "# Ignore all warnings\n",
    "warnings.filterwarnings(\"ignore\")\n",
    "\n",
    "import matplotlib.pyplot as plt\n",
    "import matplotlib as mpl\n",
    "from matplotlib.cm import get_cmap\n",
    "\n",
    "cmap = mpl.cm.get_cmap('coolwarm')"
   ]
  },
  {
   "cell_type": "code",
   "execution_count": 2,
   "metadata": {
    "id": "m6LIEjUXoaUH"
   },
   "outputs": [],
   "source": [
    "df = pd.read_csv('dataset_cleaned.csv')"
   ]
  },
  {
   "cell_type": "code",
   "execution_count": 3,
   "metadata": {
    "id": "R6d2yL41oaRz"
   },
   "outputs": [
    {
     "name": "stdout",
     "output_type": "stream",
     "text": [
      "# Data: 57,291\n",
      "# Sample:\n"
     ]
    },
    {
     "data": {
      "text/html": [
       "<div>\n",
       "<style scoped>\n",
       "    .dataframe tbody tr th:only-of-type {\n",
       "        vertical-align: middle;\n",
       "    }\n",
       "\n",
       "    .dataframe tbody tr th {\n",
       "        vertical-align: top;\n",
       "    }\n",
       "\n",
       "    .dataframe thead th {\n",
       "        text-align: right;\n",
       "    }\n",
       "</style>\n",
       "<table border=\"1\" class=\"dataframe\">\n",
       "  <thead>\n",
       "    <tr style=\"text-align: right;\">\n",
       "      <th></th>\n",
       "      <th>text</th>\n",
       "      <th>label</th>\n",
       "      <th>name</th>\n",
       "    </tr>\n",
       "  </thead>\n",
       "  <tbody>\n",
       "    <tr>\n",
       "      <th>0</th>\n",
       "      <td>In recent years, technology has had a profoun...</td>\n",
       "      <td>1</td>\n",
       "      <td>fake</td>\n",
       "    </tr>\n",
       "    <tr>\n",
       "      <th>1</th>\n",
       "      <td>Should students participate in an extracurricu...</td>\n",
       "      <td>0</td>\n",
       "      <td>real</td>\n",
       "    </tr>\n",
       "  </tbody>\n",
       "</table>\n",
       "</div>"
      ],
      "text/plain": [
       "                                                text  label  name\n",
       "0   In recent years, technology has had a profoun...      1  fake\n",
       "1  Should students participate in an extracurricu...      0  real"
      ]
     },
     "metadata": {},
     "output_type": "display_data"
    },
    {
     "data": {
      "image/png": "[encoded data removed]",
      "text/plain": [
       "<Figure size 576x288 with 1 Axes>"
      ]
     },
     "metadata": {
      "needs_background": "light"
     },
     "output_type": "display_data"
    }
   ],
   "source": [
    "# Class names and their corresponding labels\n",
    "class_names = [\"real\", \"fake\"]\n",
    "num_classes = len(class_names)\n",
    "class_labels = list(range(num_classes))\n",
    "\n",
    "# Map numeric labels to class names\n",
    "df['name'] = df['label'].map(dict(zip(class_labels, class_names)))\n",
    "\n",
    "# Display information about the data\n",
    "print(\"# Data: {:,}\".format(len(df)))\n",
    "print(\"# Sample:\")\n",
    "display(df.head(2))\n",
    "\n",
    "# Show distribution of labels using a bar plot\n",
    "plt.figure(figsize=(8, 4))\n",
    "cmap = get_cmap('viridis')  # Choose a color map\n",
    "colors = [cmap(i) for i in np.linspace(0, 1, num_classes)]\n",
    "\n",
    "# Plot\n",
    "value_counts = df['name'].value_counts()\n",
    "bars = value_counts.plot.bar(color=colors)\n",
    "plt.xlabel(\"Class\")\n",
    "plt.ylabel(\"Essays Count\")\n",
    "plt.title(\"Class Distribution\")\n",
    "\n",
    "# Adding counts above bars\n",
    "for i, value in enumerate(value_counts):\n",
    "    bars.text(i, value, f'{value}', ha='center', va='bottom')\n",
    "\n",
    "plt.show()"
   ]
  },
  {
   "cell_type": "code",
   "execution_count": 4,
   "metadata": {
    "id": "43gmz-lEoaPL"
   },
   "outputs": [
    {
     "name": "stdout",
     "output_type": "stream",
     "text": [
      "                                                    text  \\\n",
      "0       In recent years, technology has had a profoun...   \n",
      "1      Should students participate in an extracurricu...   \n",
      "2      The electoral college is a symbol of mockery a...   \n",
      "3      This is why I think the principle should allow...   \n",
      "4      I strongly believe that meditation and mindful...   \n",
      "...                                                  ...   \n",
      "57286  \\nBecoming a surgeon requires a great deal of ...   \n",
      "57287  \\nSchools should offer an after school homewor...   \n",
      "57288  \\nIt’s human nature to be afraid to make mista...   \n",
      "57289  \\nOne of the main debates of 2020 for many stu...   \n",
      "57290  \\nThe implementation of a curfew for teenagers...   \n",
      "\n",
      "                                            cleaned_text  \n",
      "0       in recent years, technology has had a profoun...  \n",
      "1      should students participate in an extracurricu...  \n",
      "2      the electoral college is a symbol of mockery a...  \n",
      "3      this is why i think the principle should allow...  \n",
      "4      i strongly believe that meditation and mindful...  \n",
      "...                                                  ...  \n",
      "57286  \\nbecoming a surgeon requires a great deal of ...  \n",
      "57287  \\nschools should offer an after school homewor...  \n",
      "57288  \\nit’s human nature to be afraid to make mista...  \n",
      "57289  \\none of the main debates of 2020 for many stu...  \n",
      "57290  \\nthe implementation of a curfew for teenagers...  \n",
      "\n",
      "[57291 rows x 2 columns]\n"
     ]
    }
   ],
   "source": [
    "sub_df = df\n",
    "import pandas as pd\n",
    "import re\n",
    "import string\n",
    "import nltk\n",
    "from nltk.corpus import stopwords\n",
    "from nltk.stem import PorterStemmer\n",
    "from nltk.tokenize import word_tokenize\n",
    "\n",
    "\n",
    "def clean_message(message):\n",
    "    # Convert to lowercase and remove URLs\n",
    "    message = message.lower()\n",
    "    message = re.sub('http\\S+|www\\S+', '', message)\n",
    "\n",
    "    return message\n",
    "\n",
    "\n",
    "# Preprocess the 'text' column\n",
    "sub_df['cleaned_text'] = sub_df['text'].apply(clean_message)\n",
    "\n",
    "# Display the DataFrame to see the changes\n",
    "print(sub_df[['text', 'cleaned_text']])"
   ]
  },
  {
   "cell_type": "code",
   "execution_count": 5,
   "metadata": {
    "id": "saAHcHEIoaMl"
   },
   "outputs": [],
   "source": [
    "#pip install textstat"
   ]
  },
  {
   "cell_type": "code",
   "execution_count": 6,
   "metadata": {
    "id": "sDl_wYVvoaKS"
   },
   "outputs": [
    {
     "name": "stderr",
     "output_type": "stream",
     "text": [
      "[nltk_data] Downloading package punkt to /home/rayapudi.s/nltk_data...\n",
      "[nltk_data]   Package punkt is already up-to-date!\n",
      "[nltk_data] Downloading package averaged_perceptron_tagger to\n",
      "[nltk_data]     /home/rayapudi.s/nltk_data...\n",
      "[nltk_data]   Package averaged_perceptron_tagger is already up-to-\n",
      "[nltk_data]       date!\n"
     ]
    }
   ],
   "source": [
    "import pandas as pd\n",
    "import numpy as np\n",
    "import nltk\n",
    "import gensim\n",
    "import spacy\n",
    "import textstat\n",
    "from sklearn.feature_extraction.text import CountVectorizer\n",
    "from nltk.util import ngrams\n",
    "from sklearn.preprocessing import StandardScaler\n",
    "from transformers import BertTokenizer, BertModel\n",
    "\n",
    "# Load your dataframe\n",
    "# sub_df = pd.read_csv('your_file.csv')  # Assuming you have a file to load from\n",
    "\n",
    "# Ensure nltk resources are downloaded\n",
    "nltk.download('punkt')\n",
    "nltk.download('averaged_perceptron_tagger')\n",
    "\n",
    "# Load spacy model for syntax analysis\n",
    "nlp = spacy.load(\"en_core_web_sm\")\n",
    "\n",
    "# Function to calculate sentence length\n",
    "def sentence_length(text):\n",
    "    sentences = nltk.sent_tokenize(text)\n",
    "    return np.mean([len(nltk.word_tokenize(sent)) for sent in sentences])\n",
    "\n",
    "# Function to calculate vocabulary richness\n",
    "def vocabulary_richness(text):\n",
    "    words = nltk.word_tokenize(text)\n",
    "    return len(set(words)) / len(words) if words else 0\n",
    "\n",
    "# Function to calculate readability score\n",
    "def readability_score(text):\n",
    "    return textstat.flesch_reading_ease(text)\n",
    "\n",
    "# Function to extract n-grams\n",
    "def extract_ngrams(text, num):\n",
    "    n_grams = ngrams(nltk.word_tokenize(text), num)\n",
    "    return [' '.join(grams) for grams in n_grams]\n",
    "\n",
    "# # Function to calculate syntax features\n",
    "# def syntax_features(text):\n",
    "#     doc = nlp(text)\n",
    "#     pos_tags = [token.pos_ for token in doc]\n",
    "#     return pos_tags\n",
    "\n",
    "# Feature extraction\n",
    "sub_df['sentence_length'] = sub_df['cleaned_text'].apply(sentence_length)\n",
    "sub_df['vocab_richness'] = sub_df['cleaned_text'].apply(vocabulary_richness)\n",
    "sub_df['readability'] = sub_df['cleaned_text'].apply(readability_score)\n",
    "# # For n-grams, you'll have to decide how to integrate them into your model\n",
    "# sub_df['syntax'] = sub_df['cleaned_text'].apply(syntax_features)\n",
    "\n",
    "# Feature Scaling\n",
    "scaler = StandardScaler()\n",
    "sub_df[['sentence_length', 'vocab_richness', 'readability']] = scaler.fit_transform(sub_df[['sentence_length', 'vocab_richness', 'readability']])\n",
    "\n",
    "# Word Embeddings (example with Word2Vec, you can replace with GloVe or BERT)\n",
    "# Assuming you have pre-trained Word2Vec embeddings loaded into 'word2vec_model'\n",
    "def document_vector(text, model):\n",
    "    words = nltk.word_tokenize(text)\n",
    "    word_vectors = [model[word] for word in words if word in model]\n",
    "    return np.mean(word_vectors, axis=0) if word_vectors else np.zeros(model.vector_size)\n"
   ]
  },
  {
   "cell_type": "code",
   "execution_count": 7,
   "metadata": {
    "id": "MHde2KLcoaH6"
   },
   "outputs": [
    {
     "data": {
      "image/png": "[encoded data removed]",
      "text/plain": [
       "<Figure size 720x288 with 2 Axes>"
      ]
     },
     "metadata": {
      "needs_background": "light"
     },
     "output_type": "display_data"
    },
    {
     "data": {
      "image/png": "[encoded data removed]",
      "text/plain": [
       "<Figure size 720x288 with 2 Axes>"
      ]
     },
     "metadata": {
      "needs_background": "light"
     },
     "output_type": "display_data"
    },
    {
     "data": {
      "image/png": "[encoded data removed]",
      "text/plain": [
       "<Figure size 720x288 with 2 Axes>"
      ]
     },
     "metadata": {
      "needs_background": "light"
     },
     "output_type": "display_data"
    },
    {
     "data": {
      "image/png": "[encoded data removed]",
      "text/plain": [
       "<Figure size 576x432 with 2 Axes>"
      ]
     },
     "metadata": {
      "needs_background": "light"
     },
     "output_type": "display_data"
    }
   ],
   "source": [
    "\n",
    "import pandas as pd\n",
    "import matplotlib.pyplot as plt\n",
    "import seaborn as sns\n",
    "\n",
    "# Sample DataFrame\n",
    "# Replace this with your actual DataFrame\n",
    "\n",
    "# EDA: Distribution of features by label\n",
    "features = ['sentence_length', 'vocab_richness', 'readability']\n",
    "\n",
    "for feature in features:\n",
    "    plt.figure(figsize=(10, 4))\n",
    "\n",
    "    # Separate plots for label 0 and label 1\n",
    "    plt.subplot(1, 2, 1)\n",
    "    sns.histplot(sub_df[sub_df['label'] == 0][feature], kde=True, color='blue', label='Label 0')\n",
    "    plt.title(f'{feature} - Label 0')\n",
    "    plt.legend()\n",
    "\n",
    "    plt.subplot(1, 2, 2)\n",
    "    sns.histplot(sub_df[sub_df['label'] == 1][feature], kde=True, color='orange', label='Label 1')\n",
    "    plt.title(f'{feature} - Label 1')\n",
    "    plt.legend()\n",
    "\n",
    "    plt.show()\n",
    "\n",
    "# Correlation Analysis\n",
    "plt.figure(figsize=(8, 6))\n",
    "sns.heatmap(sub_df[['sentence_length', 'vocab_richness', 'readability']].corr(), annot=True, cmap='coolwarm')\n",
    "plt.title(\"Correlation Matrix\")\n",
    "plt.show()"
   ]
  },
  {
   "cell_type": "code",
   "execution_count": 8,
   "metadata": {
    "id": "9rBNhT8CoaFd"
   },
   "outputs": [
    {
     "data": {
      "text/plain": [
       "Index(['text', 'label', 'name', 'cleaned_text', 'sentence_length',\n",
       "       'vocab_richness', 'readability'],\n",
       "      dtype='object')"
      ]
     },
     "execution_count": 8,
     "metadata": {},
     "output_type": "execute_result"
    }
   ],
   "source": [
    "sub_df.columns"
   ]
  },
  {
   "cell_type": "code",
   "execution_count": 9,
   "metadata": {
    "id": "fOobnVKGorW8"
   },
   "outputs": [],
   "source": [
    "import spacy\n",
    "\n",
    "# Load SpaCy's English-language models\n",
    "nlp = spacy.load(\"en_core_web_sm\")\n",
    "\n",
    "# Function to extract named entities and count by type\n",
    "def extract_entities(text):\n",
    "    doc = nlp(text)\n",
    "    entities = [ent.label_ for ent in doc.ents]\n",
    "    return pd.Series(entities).value_counts().to_dict()\n",
    "\n",
    "# Assuming 'text' is the column in your DataFrame with the text you're analyzing\n",
    "sub_df['named_entities'] = sub_df['cleaned_text'].apply(extract_entities)\n"
   ]
  },
  {
   "cell_type": "code",
   "execution_count": 10,
   "metadata": {
    "id": "9nE7LC6eorUW"
   },
   "outputs": [],
   "source": [
    "from textblob import TextBlob\n",
    "\n",
    "# Function to compute sentiment polarity\n",
    "def compute_sentiment(text):\n",
    "    blob = TextBlob(text)\n",
    "    return blob.sentiment.polarity\n",
    "\n",
    "# Function to compute sentiment subjectivity\n",
    "def compute_subjectivity(text):\n",
    "    blob = TextBlob(text)\n",
    "    return blob.sentiment.subjectivity\n",
    "\n",
    "# Applying the functions to your DataFrame\n",
    "sub_df['sentiment_polarity'] = sub_df['text'].apply(compute_sentiment)\n",
    "sub_df['sentiment_subjectivity'] = sub_df['text'].apply(compute_subjectivity)"
   ]
  },
  {
   "cell_type": "code",
   "execution_count": 11,
   "metadata": {
    "id": "oM48h3HiorSG"
   },
   "outputs": [],
   "source": [
    "# Function to classify sentiment based on polarity\n",
    "def classify_sentiment(polarity):\n",
    "    if polarity > 0.05:\n",
    "        return 'Positive'\n",
    "    elif polarity < -0.05:\n",
    "        return 'Negative'\n",
    "    else:\n",
    "        return 'Neutral'\n",
    "\n",
    "# Applying the function to classify sentiment\n",
    "sub_df['sentiment_classification'] = sub_df['sentiment_polarity'].apply(classify_sentiment)\n"
   ]
  },
  {
   "cell_type": "code",
   "execution_count": 12,
   "metadata": {
    "id": "mpI0sFMforPx"
   },
   "outputs": [
    {
     "data": {
      "image/png": "[encoded data removed]",
      "text/plain": [
       "<Figure size 720x432 with 1 Axes>"
      ]
     },
     "metadata": {
      "needs_background": "light"
     },
     "output_type": "display_data"
    }
   ],
   "source": [
    "import matplotlib.pyplot as plt\n",
    "import seaborn as sns\n",
    "import pandas as pd\n",
    "\n",
    "# Assuming 'sub_df' is your DataFrame\n",
    "# First, create a summary DataFrame that counts the occurrences of each sentiment classification within each label category\n",
    "sentiment_counts = sub_df.groupby(['label', 'sentiment_classification']).size().unstack(fill_value=0).reset_index()\n",
    "\n",
    "# Plotting\n",
    "plt.figure(figsize=(10, 6))\n",
    "\n",
    "# Using seaborn to create a bar plot\n",
    "sns.barplot(data=sentiment_counts.melt(id_vars=['label']), x='label', y='value', hue='sentiment_classification')\n",
    "\n",
    "plt.title('Sentiment Classification Counts by Label')\n",
    "plt.xlabel('Label')\n",
    "plt.ylabel('Count')\n",
    "plt.legend(title='Sentiment Classification')\n",
    "plt.xticks(rotation=45)  # Rotate labels if needed\n",
    "\n",
    "plt.show()\n"
   ]
  },
  {
   "cell_type": "code",
   "execution_count": 13,
   "metadata": {
    "id": "P-NpImCQorNO"
   },
   "outputs": [
    {
     "data": {
      "text/plain": [
       "0                               {'DATE': 1, 'CARDINAL': 1}\n",
       "1        {'CARDINAL': 2, 'PERSON': 1, 'ORDINAL': 1, 'DA...\n",
       "2        {'ORG': 7, 'PERSON': 5, 'GPE': 5, 'DATE': 2, '...\n",
       "3                                                       {}\n",
       "4        {'DATE': 3, 'ORG': 3, 'ORDINAL': 1, 'CARDINAL'...\n",
       "                               ...                        \n",
       "57286                                {'DATE': 2, 'GPE': 2}\n",
       "57287                        {'CARDINAL': 2, 'ORDINAL': 2}\n",
       "57288                                                   {}\n",
       "57289                           {'CARDINAL': 1, 'DATE': 1}\n",
       "57290                                          {'TIME': 1}\n",
       "Name: named_entities, Length: 57291, dtype: object"
      ]
     },
     "execution_count": 13,
     "metadata": {},
     "output_type": "execute_result"
    }
   ],
   "source": [
    "sub_df[\"named_entities\"]"
   ]
  },
  {
   "cell_type": "code",
   "execution_count": 14,
   "metadata": {
    "id": "UhGN-R6borLF"
   },
   "outputs": [],
   "source": [
    "import pandas as pd\n",
    "from collections import defaultdict\n",
    "\n",
    "# Initialize dictionaries to store aggregated counts\n",
    "ai_counts = defaultdict(int)\n",
    "student_counts = defaultdict(int)\n",
    "\n",
    "# Iterate over the DataFrame to aggregate counts\n",
    "for index, row in sub_df.iterrows():\n",
    "    label = row['label']  # This assumes you have a 'label' column\n",
    "    entities = row['named_entities']\n",
    "    if label == 'fake':\n",
    "        for key, value in entities.items():\n",
    "            ai_counts[key] += value\n",
    "    elif label == 'real':\n",
    "        for key, value in entities.items():\n",
    "            student_counts[key] += value\n",
    "\n",
    "# Convert the aggregated counts into a DataFrame for easy plotting\n",
    "ner_df = pd.DataFrame([ai_counts, student_counts], index=['AI', 'Student']).T.reset_index()\n",
    "ner_df = ner_df.melt(id_vars='index', var_name='Label', value_name='Count')\n",
    "ner_df.rename(columns={'index': 'NER_Tag'}, inplace=True)\n"
   ]
  },
  {
   "cell_type": "code",
   "execution_count": 15,
   "metadata": {
    "id": "Y3uIHjrtorIq"
   },
   "outputs": [],
   "source": [
    "import pandas as pd\n",
    "from collections import defaultdict\n",
    "\n",
    "# Initialize dictionaries to store aggregated counts for 'real' and 'fake'\n",
    "real_counts = defaultdict(int)\n",
    "fake_counts = defaultdict(int)\n",
    "\n",
    "# Iterate over the DataFrame to aggregate counts based on 'name' column\n",
    "for index, row in sub_df.iterrows():\n",
    "    label = row['name']  # Using 'name' as the label column\n",
    "    entities = row['named_entities']\n",
    "    if label == 'real':\n",
    "        for key, value in entities.items():\n",
    "            real_counts[key] += value\n",
    "    elif label == 'fake':\n",
    "        for key, value in entities.items():\n",
    "            fake_counts[key] += value\n",
    "\n",
    "# Convert the aggregated counts into a DataFrame for plotting\n",
    "ner_df = pd.DataFrame([real_counts, fake_counts], index=['Real', 'Fake']).T.reset_index()\n",
    "ner_df = ner_df.melt(id_vars='index', var_name='Label', value_name='Count')\n",
    "ner_df.rename(columns={'index': 'NER_Tag'}, inplace=True)\n"
   ]
  },
  {
   "cell_type": "code",
   "execution_count": 16,
   "metadata": {
    "id": "eahkWGx3orGf"
   },
   "outputs": [
    {
     "data": {
      "text/html": [
       "<div>\n",
       "<style scoped>\n",
       "    .dataframe tbody tr th:only-of-type {\n",
       "        vertical-align: middle;\n",
       "    }\n",
       "\n",
       "    .dataframe tbody tr th {\n",
       "        vertical-align: top;\n",
       "    }\n",
       "\n",
       "    .dataframe thead th {\n",
       "        text-align: right;\n",
       "    }\n",
       "</style>\n",
       "<table border=\"1\" class=\"dataframe\">\n",
       "  <thead>\n",
       "    <tr style=\"text-align: right;\">\n",
       "      <th></th>\n",
       "      <th>NER_Tag</th>\n",
       "      <th>Label</th>\n",
       "      <th>Count</th>\n",
       "    </tr>\n",
       "  </thead>\n",
       "  <tbody>\n",
       "    <tr>\n",
       "      <th>0</th>\n",
       "      <td>CARDINAL</td>\n",
       "      <td>Real</td>\n",
       "      <td>60077</td>\n",
       "    </tr>\n",
       "    <tr>\n",
       "      <th>1</th>\n",
       "      <td>PERSON</td>\n",
       "      <td>Real</td>\n",
       "      <td>17011</td>\n",
       "    </tr>\n",
       "    <tr>\n",
       "      <th>2</th>\n",
       "      <td>ORDINAL</td>\n",
       "      <td>Real</td>\n",
       "      <td>18194</td>\n",
       "    </tr>\n",
       "    <tr>\n",
       "      <th>3</th>\n",
       "      <td>DATE</td>\n",
       "      <td>Real</td>\n",
       "      <td>65274</td>\n",
       "    </tr>\n",
       "    <tr>\n",
       "      <th>4</th>\n",
       "      <td>ORG</td>\n",
       "      <td>Real</td>\n",
       "      <td>26103</td>\n",
       "    </tr>\n",
       "    <tr>\n",
       "      <th>5</th>\n",
       "      <td>GPE</td>\n",
       "      <td>Real</td>\n",
       "      <td>29982</td>\n",
       "    </tr>\n",
       "    <tr>\n",
       "      <th>6</th>\n",
       "      <td>NORP</td>\n",
       "      <td>Real</td>\n",
       "      <td>8538</td>\n",
       "    </tr>\n",
       "    <tr>\n",
       "      <th>7</th>\n",
       "      <td>TIME</td>\n",
       "      <td>Real</td>\n",
       "      <td>8042</td>\n",
       "    </tr>\n",
       "    <tr>\n",
       "      <th>8</th>\n",
       "      <td>LOC</td>\n",
       "      <td>Real</td>\n",
       "      <td>5285</td>\n",
       "    </tr>\n",
       "    <tr>\n",
       "      <th>9</th>\n",
       "      <td>PERCENT</td>\n",
       "      <td>Real</td>\n",
       "      <td>9408</td>\n",
       "    </tr>\n",
       "    <tr>\n",
       "      <th>10</th>\n",
       "      <td>LAW</td>\n",
       "      <td>Real</td>\n",
       "      <td>214</td>\n",
       "    </tr>\n",
       "    <tr>\n",
       "      <th>11</th>\n",
       "      <td>PRODUCT</td>\n",
       "      <td>Real</td>\n",
       "      <td>196</td>\n",
       "    </tr>\n",
       "    <tr>\n",
       "      <th>12</th>\n",
       "      <td>EVENT</td>\n",
       "      <td>Real</td>\n",
       "      <td>534</td>\n",
       "    </tr>\n",
       "    <tr>\n",
       "      <th>13</th>\n",
       "      <td>FAC</td>\n",
       "      <td>Real</td>\n",
       "      <td>221</td>\n",
       "    </tr>\n",
       "    <tr>\n",
       "      <th>14</th>\n",
       "      <td>QUANTITY</td>\n",
       "      <td>Real</td>\n",
       "      <td>3810</td>\n",
       "    </tr>\n",
       "    <tr>\n",
       "      <th>15</th>\n",
       "      <td>LANGUAGE</td>\n",
       "      <td>Real</td>\n",
       "      <td>517</td>\n",
       "    </tr>\n",
       "    <tr>\n",
       "      <th>16</th>\n",
       "      <td>MONEY</td>\n",
       "      <td>Real</td>\n",
       "      <td>2024</td>\n",
       "    </tr>\n",
       "    <tr>\n",
       "      <th>17</th>\n",
       "      <td>WORK_OF_ART</td>\n",
       "      <td>Real</td>\n",
       "      <td>82</td>\n",
       "    </tr>\n",
       "    <tr>\n",
       "      <th>18</th>\n",
       "      <td>CARDINAL</td>\n",
       "      <td>Fake</td>\n",
       "      <td>29029</td>\n",
       "    </tr>\n",
       "    <tr>\n",
       "      <th>19</th>\n",
       "      <td>PERSON</td>\n",
       "      <td>Fake</td>\n",
       "      <td>11896</td>\n",
       "    </tr>\n",
       "    <tr>\n",
       "      <th>20</th>\n",
       "      <td>ORDINAL</td>\n",
       "      <td>Fake</td>\n",
       "      <td>20378</td>\n",
       "    </tr>\n",
       "    <tr>\n",
       "      <th>21</th>\n",
       "      <td>DATE</td>\n",
       "      <td>Fake</td>\n",
       "      <td>31000</td>\n",
       "    </tr>\n",
       "    <tr>\n",
       "      <th>22</th>\n",
       "      <td>ORG</td>\n",
       "      <td>Fake</td>\n",
       "      <td>16940</td>\n",
       "    </tr>\n",
       "    <tr>\n",
       "      <th>23</th>\n",
       "      <td>GPE</td>\n",
       "      <td>Fake</td>\n",
       "      <td>12322</td>\n",
       "    </tr>\n",
       "    <tr>\n",
       "      <th>24</th>\n",
       "      <td>NORP</td>\n",
       "      <td>Fake</td>\n",
       "      <td>5878</td>\n",
       "    </tr>\n",
       "    <tr>\n",
       "      <th>25</th>\n",
       "      <td>TIME</td>\n",
       "      <td>Fake</td>\n",
       "      <td>3823</td>\n",
       "    </tr>\n",
       "    <tr>\n",
       "      <th>26</th>\n",
       "      <td>LOC</td>\n",
       "      <td>Fake</td>\n",
       "      <td>2542</td>\n",
       "    </tr>\n",
       "    <tr>\n",
       "      <th>27</th>\n",
       "      <td>PERCENT</td>\n",
       "      <td>Fake</td>\n",
       "      <td>1828</td>\n",
       "    </tr>\n",
       "    <tr>\n",
       "      <th>28</th>\n",
       "      <td>LAW</td>\n",
       "      <td>Fake</td>\n",
       "      <td>12</td>\n",
       "    </tr>\n",
       "    <tr>\n",
       "      <th>29</th>\n",
       "      <td>PRODUCT</td>\n",
       "      <td>Fake</td>\n",
       "      <td>270</td>\n",
       "    </tr>\n",
       "    <tr>\n",
       "      <th>30</th>\n",
       "      <td>EVENT</td>\n",
       "      <td>Fake</td>\n",
       "      <td>247</td>\n",
       "    </tr>\n",
       "    <tr>\n",
       "      <th>31</th>\n",
       "      <td>FAC</td>\n",
       "      <td>Fake</td>\n",
       "      <td>58</td>\n",
       "    </tr>\n",
       "    <tr>\n",
       "      <th>32</th>\n",
       "      <td>QUANTITY</td>\n",
       "      <td>Fake</td>\n",
       "      <td>1447</td>\n",
       "    </tr>\n",
       "    <tr>\n",
       "      <th>33</th>\n",
       "      <td>LANGUAGE</td>\n",
       "      <td>Fake</td>\n",
       "      <td>771</td>\n",
       "    </tr>\n",
       "    <tr>\n",
       "      <th>34</th>\n",
       "      <td>MONEY</td>\n",
       "      <td>Fake</td>\n",
       "      <td>786</td>\n",
       "    </tr>\n",
       "    <tr>\n",
       "      <th>35</th>\n",
       "      <td>WORK_OF_ART</td>\n",
       "      <td>Fake</td>\n",
       "      <td>131</td>\n",
       "    </tr>\n",
       "  </tbody>\n",
       "</table>\n",
       "</div>"
      ],
      "text/plain": [
       "        NER_Tag Label  Count\n",
       "0      CARDINAL  Real  60077\n",
       "1        PERSON  Real  17011\n",
       "2       ORDINAL  Real  18194\n",
       "3          DATE  Real  65274\n",
       "4           ORG  Real  26103\n",
       "5           GPE  Real  29982\n",
       "6          NORP  Real   8538\n",
       "7          TIME  Real   8042\n",
       "8           LOC  Real   5285\n",
       "9       PERCENT  Real   9408\n",
       "10          LAW  Real    214\n",
       "11      PRODUCT  Real    196\n",
       "12        EVENT  Real    534\n",
       "13          FAC  Real    221\n",
       "14     QUANTITY  Real   3810\n",
       "15     LANGUAGE  Real    517\n",
       "16        MONEY  Real   2024\n",
       "17  WORK_OF_ART  Real     82\n",
       "18     CARDINAL  Fake  29029\n",
       "19       PERSON  Fake  11896\n",
       "20      ORDINAL  Fake  20378\n",
       "21         DATE  Fake  31000\n",
       "22          ORG  Fake  16940\n",
       "23          GPE  Fake  12322\n",
       "24         NORP  Fake   5878\n",
       "25         TIME  Fake   3823\n",
       "26          LOC  Fake   2542\n",
       "27      PERCENT  Fake   1828\n",
       "28          LAW  Fake     12\n",
       "29      PRODUCT  Fake    270\n",
       "30        EVENT  Fake    247\n",
       "31          FAC  Fake     58\n",
       "32     QUANTITY  Fake   1447\n",
       "33     LANGUAGE  Fake    771\n",
       "34        MONEY  Fake    786\n",
       "35  WORK_OF_ART  Fake    131"
      ]
     },
     "execution_count": 16,
     "metadata": {},
     "output_type": "execute_result"
    }
   ],
   "source": [
    "ner_df"
   ]
  },
  {
   "cell_type": "code",
   "execution_count": 17,
   "metadata": {
    "id": "kOwChm9BorES"
   },
   "outputs": [
    {
     "data": {
      "image/png": "[encoded data removed]",
      "text/plain": [
       "<Figure size 864x576 with 1 Axes>"
      ]
     },
     "metadata": {
      "needs_background": "light"
     },
     "output_type": "display_data"
    }
   ],
   "source": [
    "import seaborn as sns\n",
    "import matplotlib.pyplot as plt\n",
    "\n",
    "plt.figure(figsize=(12, 8))\n",
    "sns.barplot(x='Count', y='NER_Tag', hue='Label', data=ner_df, ci=None)\n",
    "\n",
    "plt.title('Comparison of NER Tag Usage: Real vs. Fake')\n",
    "plt.xlabel('Count')\n",
    "plt.ylabel('NER Tag')\n",
    "plt.legend(title='Label', loc='upper right')\n",
    "\n",
    "plt.tight_layout()\n",
    "plt.show()"
   ]
  },
  {
   "cell_type": "code",
   "execution_count": 18,
   "metadata": {
    "id": "eiadrkHboaDW"
   },
   "outputs": [
    {
     "name": "stderr",
     "output_type": "stream",
     "text": [
      "[nltk_data] Downloading package punkt to /home/rayapudi.s/nltk_data...\n",
      "[nltk_data]   Package punkt is already up-to-date!\n",
      "[nltk_data] Downloading package averaged_perceptron_tagger to\n",
      "[nltk_data]     /home/rayapudi.s/nltk_data...\n",
      "[nltk_data]   Package averaged_perceptron_tagger is already up-to-\n",
      "[nltk_data]       date!\n"
     ]
    }
   ],
   "source": [
    "import pandas as pd\n",
    "import nltk\n",
    "from nltk.tokenize import word_tokenize\n",
    "from nltk import pos_tag\n",
    "from collections import Counter\n",
    "\n",
    "# Ensure you have the necessary NLTK data downloaded\n",
    "nltk.download('punkt')\n",
    "nltk.download('averaged_perceptron_tagger')\n",
    "\n",
    "# Function to calculate punctuation percentage\n",
    "def punctuation_percentage(text):\n",
    "    punctuation_chars = '!\"#$%&\\'()*+,-./:;<=>?@[\\\\]^_`{|}~'\n",
    "    punctuation_count = sum(1 for char in text if char in punctuation_chars)\n",
    "    total_chars = len(text)\n",
    "    if total_chars == 0:  # Avoid division by zero\n",
    "        return 0\n",
    "    return (punctuation_count / total_chars) * 100\n",
    "\n",
    "# Function to count verbs\n",
    "def verb_count(text):\n",
    "    tokens = word_tokenize(text)\n",
    "    tagged = pos_tag(tokens)\n",
    "    verb_tags = {'VB', 'VBD', 'VBG', 'VBN', 'VBP', 'VBZ'}\n",
    "    verb_count = sum(1 for _, tag in tagged if tag in verb_tags)\n",
    "    return verb_count\n",
    "\n",
    "# Applying the functions to the 'cleaned_text' column\n",
    "sub_df['punctuation_percentage'] = sub_df['cleaned_text'].apply(punctuation_percentage)\n",
    "sub_df['verb_count'] = sub_df['cleaned_text'].apply(verb_count)\n"
   ]
  },
  {
   "cell_type": "code",
   "execution_count": 19,
   "metadata": {
    "id": "KlTSuU-3oaBA"
   },
   "outputs": [
    {
     "data": {
      "image/png": "[encoded data removed]",
      "text/plain": [
       "<Figure size 576x432 with 1 Axes>"
      ]
     },
     "metadata": {
      "needs_background": "light"
     },
     "output_type": "display_data"
    }
   ],
   "source": [
    "import seaborn as sns\n",
    "import matplotlib.pyplot as plt\n",
    "\n",
    "# Calculate means\n",
    "verb_count_means = sub_df.groupby('label')['verb_count'].mean().reset_index()\n",
    "\n",
    "# Plot\n",
    "plt.figure(figsize=(8, 6))\n",
    "sns.barplot(x='label', y='verb_count', data=verb_count_means)\n",
    "plt.title('Average Verb Count by Label')\n",
    "plt.xlabel('Label')\n",
    "plt.ylabel('Average Verb Count')\n",
    "plt.xticks([0, 1], ['Label 0', 'Label 1'])  # Adjust labels as per your dataset\n",
    "plt.show()"
   ]
  },
  {
   "cell_type": "code",
   "execution_count": 20,
   "metadata": {
    "id": "bLMEZO_toZ-p"
   },
   "outputs": [
    {
     "data": {
      "image/png": "[encoded data removed]",
      "text/plain": [
       "<Figure size 576x432 with 1 Axes>"
      ]
     },
     "metadata": {
      "needs_background": "light"
     },
     "output_type": "display_data"
    }
   ],
   "source": [
    "# Calculate means\n",
    "punctuation_percentage_means = sub_df.groupby('label')['punctuation_percentage'].mean().reset_index()\n",
    "\n",
    "# Plot\n",
    "plt.figure(figsize=(8, 6))\n",
    "sns.barplot(x='label', y='punctuation_percentage', data=punctuation_percentage_means)\n",
    "plt.title('Average Punctuation Percentage by Label')\n",
    "plt.xlabel('Label')\n",
    "plt.ylabel('Average Punctuation Percentage')\n",
    "plt.xticks([0, 1], ['Label 0', 'Label 1'])  # Adjust labels as per your dataset\n",
    "plt.show()\n"
   ]
  },
  {
   "cell_type": "code",
   "execution_count": 21,
   "metadata": {
    "id": "GgelHmbvoZ8h"
   },
   "outputs": [],
   "source": [
    "# Assuming sub_df is your DataFrame\n",
    "# Convert the 'named_entities' column of dictionaries into a DataFrame of counts\n",
    "entities_df = sub_df['named_entities'].apply(pd.Series).fillna(0)\n",
    "\n",
    "# Now, entities_df has columns for each named entity type and rows for their counts\n",
    "# You can merge this DataFrame back with your original DataFrame\n",
    "sub_df = pd.concat([sub_df.drop(['named_entities'], axis=1), entities_df], axis=1)\n"
   ]
  },
  {
   "cell_type": "code",
   "execution_count": 22,
   "metadata": {},
   "outputs": [
    {
     "name": "stdout",
     "output_type": "stream",
     "text": [
      "<class 'pandas.core.frame.DataFrame'>\n",
      "RangeIndex: 57291 entries, 0 to 57290\n",
      "Data columns (total 30 columns):\n",
      " #   Column                    Non-Null Count  Dtype  \n",
      "---  ------                    --------------  -----  \n",
      " 0   text                      57291 non-null  object \n",
      " 1   label                     57291 non-null  int64  \n",
      " 2   name                      57291 non-null  object \n",
      " 3   cleaned_text              57291 non-null  object \n",
      " 4   sentence_length           57291 non-null  float64\n",
      " 5   vocab_richness            57291 non-null  float64\n",
      " 6   readability               57291 non-null  float64\n",
      " 7   sentiment_polarity        57291 non-null  float64\n",
      " 8   sentiment_subjectivity    57291 non-null  float64\n",
      " 9   sentiment_classification  57291 non-null  object \n",
      " 10  punctuation_percentage    57291 non-null  float64\n",
      " 11  verb_count                57291 non-null  int64  \n",
      " 12  DATE                      57291 non-null  float64\n",
      " 13  CARDINAL                  57291 non-null  float64\n",
      " 14  PERSON                    57291 non-null  float64\n",
      " 15  ORDINAL                   57291 non-null  float64\n",
      " 16  ORG                       57291 non-null  float64\n",
      " 17  GPE                       57291 non-null  float64\n",
      " 18  NORP                      57291 non-null  float64\n",
      " 19  TIME                      57291 non-null  float64\n",
      " 20  LOC                       57291 non-null  float64\n",
      " 21  PERCENT                   57291 non-null  float64\n",
      " 22  LAW                       57291 non-null  float64\n",
      " 23  PRODUCT                   57291 non-null  float64\n",
      " 24  EVENT                     57291 non-null  float64\n",
      " 25  FAC                       57291 non-null  float64\n",
      " 26  QUANTITY                  57291 non-null  float64\n",
      " 27  MONEY                     57291 non-null  float64\n",
      " 28  LANGUAGE                  57291 non-null  float64\n",
      " 29  WORK_OF_ART               57291 non-null  float64\n",
      "dtypes: float64(24), int64(2), object(4)\n",
      "memory usage: 13.1+ MB\n"
     ]
    }
   ],
   "source": [
    "sub_df.info()"
   ]
  },
  {
   "cell_type": "code",
   "execution_count": 23,
   "metadata": {},
   "outputs": [
    {
     "data": {
      "image/png": "[encoded data removed]",
      "text/plain": [
       "<Figure size 720x576 with 1 Axes>"
      ]
     },
     "metadata": {
      "needs_background": "light"
     },
     "output_type": "display_data"
    }
   ],
   "source": [
    "# Selecting numerical features excluding 'label'\n",
    "numerical_features = sub_df.select_dtypes(include=[np.number]).drop('label', axis=1)\n",
    " \n",
    "# Calculating Pearson correlation\n",
    "correlation_with_label = numerical_features.apply(lambda x: x.corr(sub_df['label']))\n",
    " \n",
    "# Visualizing the correlations\n",
    "plt.figure(figsize=(10, 8))\n",
    "correlation_with_label.sort_values(ascending=False).plot(kind='bar')\n",
    "plt.title('Correlation of Features with Label')\n",
    "plt.ylabel('Pearson Correlation Coefficient')\n",
    "plt.xlabel('Features')\n",
    "plt.tight_layout()\n",
    "plt.show()"
   ]
  },
  {
   "cell_type": "code",
   "execution_count": 24,
   "metadata": {},
   "outputs": [
    {
     "name": "stdout",
     "output_type": "stream",
     "text": [
      "                   Feature       F-value        P-value\n",
      "2              readability  11144.618657   0.000000e+00\n",
      "6               verb_count   9926.375113   0.000000e+00\n",
      "8                 CARDINAL   2782.438048   0.000000e+00\n",
      "16                 PERCENT   1859.603926   0.000000e+00\n",
      "7                     DATE   1750.141541   0.000000e+00\n",
      "5   punctuation_percentage   1555.077758   0.000000e+00\n",
      "1           vocab_richness   1401.942676  3.721740e-303\n",
      "12                     GPE   1129.948776  2.525827e-245\n",
      "0          sentence_length    832.236064  1.063475e-181\n",
      "4   sentiment_subjectivity    526.292731  6.042537e-116\n",
      "21                QUANTITY    488.853456  7.169339e-108\n",
      "15                     LOC    383.796955   3.529267e-85\n",
      "14                    TIME    379.567615   2.899838e-84\n",
      "3       sentiment_polarity    300.386812   4.027579e-67\n",
      "11                     ORG    232.523932   2.128126e-52\n",
      "22                   MONEY    228.159953   1.887518e-51\n",
      "9                   PERSON    149.371753   2.624563e-34\n",
      "10                 ORDINAL    130.564767   3.324563e-30\n",
      "13                    NORP    107.732935   3.238095e-25\n",
      "20                     FAC     79.245597   5.641068e-19\n",
      "17                     LAW     57.560303   3.327105e-14\n",
      "19                   EVENT     50.574006   1.160929e-12\n",
      "23                LANGUAGE     19.117340   1.231393e-05\n",
      "18                 PRODUCT     13.660800   2.191821e-04\n",
      "24             WORK_OF_ART     12.969670   3.168453e-04\n"
     ]
    }
   ],
   "source": [
    "from sklearn.feature_selection import f_classif\n",
    " \n",
    "# Exclude non-numeric columns for ANOVA\n",
    "X_anova = numerical_features\n",
    "y_anova = sub_df['label']\n",
    " \n",
    "# Perform ANOVA F-test\n",
    "f_values, p_values = f_classif(X_anova, y_anova)\n",
    " \n",
    "# Summarizing results\n",
    "anova_results = pd.DataFrame({'Feature': X_anova.columns, 'F-value': f_values, 'P-value': p_values})\n",
    "print(anova_results.sort_values(by='F-value', ascending=False))"
   ]
  },
  {
   "cell_type": "code",
   "execution_count": 25,
   "metadata": {},
   "outputs": [],
   "source": [
    "# List of features to retain based on statistical significance and your selection\n",
    "features_to_retain = [\n",
    "    'verb_count',\n",
    "    'vocab_richness',\n",
    "    'GPE',\n",
    "    'punctuation_percentage',\n",
    "    'ORG',\n",
    "    'CARDINAL',\n",
    "    'DATE',\n",
    "    'sentiment_polarity',\n",
    "    'readability',\n",
    "    'TIME', # 'sentence_length',removing sentence_length to check\n",
    "    'sentiment_subjectivity',\n",
    "    'cleaned_text',  # Including as specified\n",
    "    'name',\n",
    "    \"label\"# Including as specified\n",
    "]\n",
    " \n",
    "# Selecting only the specified columns from the DataFrame\n",
    "sub_df_s = sub_df[features_to_retain]\n",
    " \n",
    "# Now, 'sub_df_selected' contains only the columns of interest"
   ]
  },
  {
   "cell_type": "code",
   "execution_count": 26,
   "metadata": {},
   "outputs": [],
   "source": [
    "def extract_named_entities_counts(text):\n",
    "    doc = nlp(text)\n",
    "    entities_counts = {'GPE': 0, 'ORG': 0, 'CARDINAL': 0, 'DATE': 0, 'TIME': 0}\n",
    "    for ent in doc.ents:\n",
    "        if ent.label_ in entities_counts:\n",
    "            entities_counts[ent.label_] += 1\n",
    "    return entities_counts"
   ]
  },
  {
   "cell_type": "code",
   "execution_count": 41,
   "metadata": {},
   "outputs": [],
   "source": [
    "from sklearn.feature_extraction.text import TfidfVectorizer\n",
    "from sklearn.linear_model import LogisticRegression\n",
    "from sklearn.pipeline import Pipeline\n",
    "from sklearn.compose import ColumnTransformer\n",
    "from sklearn.metrics import accuracy_score\n",
    "from sklearn.preprocessing import StandardScaler\n",
    "from sklearn.model_selection import train_test_split\n",
    "\n",
    "# Splitting the data into features and target variable\n",
    "X = sub_df_s.drop(['label', 'name'], axis=1)\n",
    "y = sub_df_s['label']\n",
    " \n",
    "# Splitting the dataset into training and testing sets\n",
    "X_train, X_test, y_train, y_test = train_test_split(X, y, test_size=0.3, random_state=42)\n",
    " \n",
    "# Define the preprocessor and model pipeline\n",
    "preprocessor = ColumnTransformer(\n",
    "    transformers=[\n",
    "        ('num', StandardScaler(), ['verb_count', 'vocab_richness', 'GPE', 'punctuation_percentage',\n",
    "                                   'ORG', 'CARDINAL', 'DATE', 'sentiment_polarity', 'readability',\n",
    "                                   'TIME', 'sentiment_subjectivity']),\n",
    "        ('text', TfidfVectorizer(), 'cleaned_text')\n",
    "    ])\n",
    "\n",
    "pipeline_lr = Pipeline(steps=[\n",
    "    ('preprocessor', preprocessor),\n",
    "    ('classifier', LogisticRegression(random_state=42))\n",
    "])\n",
    "\n",
    "pipeline_rf = Pipeline(steps=[\n",
    "    ('preprocessor', preprocessor),\n",
    "    ('classifier', RandomForestClassifier(random_state=42))\n",
    "])"
   ]
  },
  {
   "cell_type": "code",
   "execution_count": 42,
   "metadata": {},
   "outputs": [
    {
     "name": "stdout",
     "output_type": "stream",
     "text": [
      "Logistic Regression Accuracy: 0.9871\n"
     ]
    }
   ],
   "source": [
    "# Train the logistic regression model using the training data\n",
    "pipeline_lr.fit(X_train, y_train)\n",
    " \n",
    "# Predict and evaluate the model using the test data\n",
    "y_pred_lr = pipeline_lr.predict(X_test)\n",
    "print(f\"Logistic Regression Accuracy: {accuracy_score(y_test, y_pred_lr):.4f}\")"
   ]
  },
  {
   "cell_type": "code",
   "execution_count": 47,
   "metadata": {},
   "outputs": [],
   "source": [
    "# Prediction function for Logistic Regression\n",
    "def predict_text_class_lr(text, pipeline_lr):\n",
    "    # Preprocess the input text\n",
    "    cleaned_text = clean_message(text)\n",
    " \n",
    "    # Extract named entities counts\n",
    "    entities_counts = extract_named_entities_counts(cleaned_text)\n",
    " \n",
    "    # Generate additional features\n",
    "    features = {\n",
    "        'verb_count': verb_count(cleaned_text),\n",
    "        'vocab_richness': vocabulary_richness(cleaned_text),\n",
    "        'GPE': entities_counts.get('GPE', 0),\n",
    "        'punctuation_percentage': punctuation_percentage(cleaned_text),\n",
    "        'ORG': entities_counts.get('ORG', 0),\n",
    "        'CARDINAL': entities_counts.get('CARDINAL', 0),\n",
    "        'DATE': entities_counts.get('DATE', 0),\n",
    "        'sentiment_polarity': TextBlob(cleaned_text).sentiment.polarity,\n",
    "        'readability': textstat.flesch_reading_ease(cleaned_text),\n",
    "        'TIME': entities_counts.get('TIME', 0),\n",
    "        'sentence_length': sentence_length(cleaned_text),\n",
    "        'sentiment_subjectivity': TextBlob(cleaned_text).sentiment.subjectivity,\n",
    "        'cleaned_text': cleaned_text  # This is for TF-IDF transformation\n",
    "    }\n",
    " \n",
    "    # Create a DataFrame for the single observation\n",
    "    features_df = pd.DataFrame([features])\n",
    " \n",
    "    # Use the pipeline to predict the class\n",
    "    predicted_class = pipeline_lr.predict(features_df)[0]\n",
    "    \n",
    "    # Map predicted class to labels\n",
    "    if predicted_class == 0:\n",
    "        return \"Human written text\"\n",
    "    elif predicted_class == 1:\n",
    "        return \"AI generated text\"\n"
   ]
  },
  {
   "cell_type": "code",
   "execution_count": 48,
   "metadata": {},
   "outputs": [
    {
     "name": "stdout",
     "output_type": "stream",
     "text": [
      "The predicted class is: Human written text\n"
     ]
    }
   ],
   "source": [
    "# Example usage:\n",
    "text_example = ''' Dear Principle, I want to bring your attention to making students do community service. \n",
    "community service will teach the students how to be responsible, because they will have to be responsible for doing their community service, \n",
    "it will keep them out of trouble, because they have something else to do besides go to friends houses, and party, and they have something them, and their\n",
    "family can be proud of because they made their own decision to help the community. Certainly, If you decide to make the students do community service, \n",
    "they will become more responsible. For example, the students will have to be on time to their community service job and that will help them to be on time \n",
    "to other things in life. They will also have to be responsible and make sure they help the community, and not forget to do their job, which is like a normal\n",
    "kid doing homework in school. The student has to do their home work, and they can not forget. I think that community service will help them to also be more independent,\n",
    "because they have to do their own duty of something like picking up trash on school property, and they will not be able to have help because\n",
    "it is their own job. At home I am responsible for taking out the trash. That is my responsibility, even though it is the family trash. I take out the trash whenever it needs to be taken out, and I do not even get paid, just like a community service job. I do not always want to take out the trash but with community service, it shows me how if I am responsible I am not only helping myself, but the environment, and the people around me. Community service will also keep children out of trouble. Some students these days go to party's, and get grounded for several reasons. However, with community service the students will have something to do on their spare time which will lead to not getting in trouble, or being somewhere there not supposed to be. The students will have to be do the community service, but instead of being somewhere their parents can not contact them, they will be building a garden for a school, or helping little kids learn to read, Doesn't that sound better to you? If the students are feeling stressed out they know that they can attend to their community service job instead of doing something bad just to get the stress away. Of course the students could do a community service job with their friends, but the point is that they will be safe and doing something good for the community. Have you ever wanted to be the only subject at the diner table? The one your parents want to brag about to their friends? Well, I know I do. If you make the students do community service, their family would be so proud of them for stepping up and helping out. Maybe some kids do not do sports, so their parents do not have something to cheer at every weekend, but If a student came home to their family telling them how good they felt about doing community service that weekend, then the parents have something very special to cheer for. Parents of students want their children to do good in school, and if you consider making community service part of your school , then I am sure that you will be getting calls from parents saying thank-you for making my children do community service I am so proud and it has helped them so much. I know that if I helped out the community not only my parents would be proud, but I would be more than proud of myself. Keep in mind that Some of my friends have already started doing community service on their own, like tutoring elementary school children, and picking up liter on the streets, they told me that it has helped them so much,a nd I would like to be li Therefore, if you could get everyone in the school to do that then Don't forget it would make everyone have so much more responsibility, as well as they would stay out of trouble, and their family and them would be so proud. I think that it will change student is the most spectacular way, and I hope that you agree as well. Thank you, STUDENT_NAME '''\n",
    "predicted_class = predict_text_class_lr(text_example,pipeline_lr)\n",
    "print(f\"The predicted class is: {predicted_class}\")"
   ]
  },
  {
   "cell_type": "code",
   "execution_count": 49,
   "metadata": {},
   "outputs": [
    {
     "name": "stdout",
     "output_type": "stream",
     "text": [
      "The predicted class is: Human written text\n"
     ]
    }
   ],
   "source": [
    "text_1= '''Most common societies expect students to identify a career by the age of 18 or 19. Personally, I think the best age to start figuring out a career path is as soon as one can. Young people are often faced with difficult decisions such as deciding which college to attend, or what job to pursue. When my parents gave me four years to decide on a career, I was overwhelmed and questioned if I was making the right decision. My advice to young people who are trying to figure out what career path to follow is to talk to mentors, explore different opportunities, and trust that you can make decisions that will help shape your future. '''\n",
    "predicted_class = predict_text_class_lr(text_1,pipeline_lr)\n",
    "print(f\"The predicted class is: {predicted_class}\")"
   ]
  },
  {
   "cell_type": "code",
   "execution_count": 50,
   "metadata": {},
   "outputs": [
    {
     "name": "stdout",
     "output_type": "stream",
     "text": [
      "The predicted class is: Human written text\n"
     ]
    }
   ],
   "source": [
    "text_2= '''In recent years, technology has had a profound impact on our daily lives and the world around us. From staying connected with loved ones to ordering food online through an app, technology has made our lives easier and more convenient. However, with great\n",
    "power comes great responsibility, and technology can also have negative consequences if used improperly.\n",
    " \n",
    "One example of this is the spread of misinformation through the internet. It's easy to find articles and sources that may not be accurate or reliable, which can lead to confusion and even harm. Additionally, technology can also pose a threat to our privacy\n",
    "and security if we are not careful about the websites and apps we use.\n",
    " \n",
    "Despite these potential drawbacks, I believe that technology can be a powerful tool for achieving great things. For example, technology has revolutionized the way we learn and access information. With the internet, we can easily find resources and information\n",
    "on any topic, making it easier to stay informed and up-to-date on current events.\n",
    " \n",
    "Furthermore, technology has opened up new opportunities for collaboration and communication, allowing people from all over the world to work together and share ideas. This has led to many great achievements and innovations, and I believe that technology will\n",
    "continue to play a vital role in shaping our future.\n",
    " \n",
    "In conclusion, while technology has its drawbacks, I believe that its potential benefits far outweigh the risks. With responsible use and proper precautions, technology can be a powerful tool for achieving great things and improving our lives.\n",
    "'''\n",
    "predicted_class = predict_text_class_lr(text_2,pipeline_lr)\n",
    "print(f\"The predicted class is: {predicted_class}\")"
   ]
  },
  {
   "cell_type": "code",
   "execution_count": 51,
   "metadata": {},
   "outputs": [
    {
     "name": "stdout",
     "output_type": "stream",
     "text": [
      "The predicted class is: Human written text\n"
     ]
    }
   ],
   "source": [
    "text_3='''It may seem like a simple question, but there are actually many different answers to this question. Personally, I think that each student can benefit from joining in on an extracurricular. These may include clubs such as Soccer Club or Harry Potter Club, or maybe something like the school newspaper and Student Council. Each of these can provide a positive impact for every person who joins. I think that all students should participate in an extracurricular activity because they can help kids make and create new friendships, urge someone to develop a new skill, and encourage students to go outside of their comfort zone.\n",
    "One way an extracurricular activity can benefit a student is by helping them to create new friendships, or maybe become closer with someone they normally wouldn't. For example, I have a friend who is a member of the Nintendo Club at our school. She is the only girl in the club, yet she has made new and unexpected friends through this experience. There are many different types of people who come together for these activities, so when a person joins in they can meet someone who has the same interests and hobbies. Unexpected friendships can be born through the simple action of attending an extracurricular.\n",
    "A second positive outcome to participating in an extracurricular is the chance to develop a new skill. Another friend of mine loved to draw and write, but wasn't really a fan of sports. Recently, he decided to attend the Basketball Club and ended up loving it! He has continued to go to Basketball Club, and his skills have increased greatly. Although it may take some time, one can eventually develop a new and fun skill which they normally wouldn't have. Additionally, if someone has multiple skills and talents, that can increase their self esteem. A lot of students have insecurities and worry about not fitting in, however, when they gain a new skill this can boost the way they see themselves and increase their confidence.\n",
    "The last way a student can benefit from participating in an extracurricular is by encouraging them to step outside of their comfort zone. I think that going outside of your comfort zone is something most people are not comfortable with doing, including myself. Over the summer, my brother switched soccer teams and this was very hard for him. Between having to leave his old team behind and adjusting to the new atmosphere, this new change was very difficult for him. As time went on, and he kept pushing himself outside of his comfort zone, and he had acclimated and adapted to the new environment. Now, my brother is so happy that he decided to go beyond what he was used to and loves his team. Even though this situation wasn't about an¬†extracurricular, they are both related. When a student joins a new club, they may be very nervous. But when someone makes the decision to try something new and take that scary step outside of their comfort zone, there will be many rewards in return. One of which is when people try new things, it can lead them to be successful in the future and inspire others to do the same thing.\n",
    "To conclude, there are multiple benefits for a person who makes the choice to participate in an extracurricular. These include the chance to make new friends and meet new people, help students to develop a new skill, and urge someone to take a risk and go outside of their comfort zone. Although some may not want to try an extracurricular, it can impact them in so many positive ways. Should students participate in an extracurricular? I think yes, and if someone takes a risk and joins in on one, they might just think yes as well. '''\n",
    "predicted_class = predict_text_class_lr(text_3,pipeline_lr)\n",
    "print(f\"The predicted class is: {predicted_class}\")"
   ]
  },
  {
   "cell_type": "code",
   "execution_count": 52,
   "metadata": {},
   "outputs": [
    {
     "name": "stdout",
     "output_type": "stream",
     "text": [
      "The predicted class is: Human written text\n"
     ]
    }
   ],
   "source": [
    "text_5 = '''A dictionary contains a definition of friendship somewhere in the F’s between the words “fear” and “Friday.” An encyclopedia supplies interesting facts on friendship. But all the definitions and facts do not convey what friendship is really all about. It cannot be understood through words or exaggerations. The only way to understand friendship is through experience. It is an experience that involves all the senses.\n",
    " \n",
    "Friendship can be seen. It is seen in an old couple sitting in the park holding hands. It is the way they touch, a touch as light as a leaf floating in the autumn air, a touch so strong that years of living could not pull them apart. Friendship is seen in a child freely sharing the last cookie. It is the small arm over the shoulder of another as they walk on the playground. Seeing friendship is not casual. It is watching for subtlety, but friendship is there for eyes that can see.\n",
    " \n",
    "Friendship can be heard. It is heard in the words of two friends who squeezed in lunch together on an extremely busy day. It is the way they talk to each other, not the words. Their tone is unique. Friendship can be heard by those willing to listen.\n",
    " \n",
    "Friendship is felt in a touch. It is a pat on the back from a teammate, a high five between classes, the slimy, wet kiss from the family dog. It’s a touch that reassures that someone is there, someone who cares. The touch communicates more than words or gestures. It is instantly understood and speaks volumes beyond the point of contact, to the heart.\n",
    " \n",
    "Friendship has a taste. It tastes like homemade bread, the ingredients all measured and planned, then carefully mixed and kneaded, then the quiet waiting as the dough rises. Hot from the oven, the bread tastes more than the sum of its ingredients. There is something else there, perhaps the thoughts of the baker as her hands knead the dough, or her patience as she waits for the dough to rise. Unseen and unmeasured, this is the ingredient that makes the difference. Warm, fresh from the oven with a little butter, the difference you taste is friendship.\n",
    " \n",
    "Friendship has a smell. It smells like the slightly burnt cookies your brother made especially for you. It smells like your home when stepping into it after being away for a long time. It smells like a sandbox or a sweaty gym. Friendship has a variety of smells. Taken for granted at the moment, they define the memory of friendship.\n",
    " \n",
    "Finally, more than the other senses, friendship is an experience of the heart. It is the language of the heart—a language without words, vowels, or consonants; a language that, whether seen, felt, heard, or tasted, is understood by the heart. Like air fills the lungs, friendship fills the heart, allowing us to experience the best life has to offer: a friend.'''\n",
    "predicted_class = predict_text_class_lr(text_5,pipeline_lr)\n",
    "print(f\"The predicted class is: {predicted_class}\")"
   ]
  },
  {
   "cell_type": "code",
   "execution_count": 53,
   "metadata": {},
   "outputs": [
    {
     "name": "stdout",
     "output_type": "stream",
     "text": [
      "The predicted class is: Human written text\n"
     ]
    }
   ],
   "source": [
    "text_6 = '''It was a beautiful August morning. The sun was brightly shining on my sunglasses while my mother drove the U-haul truck to a warehouse in Santa Ana, California. As my mother drove down the streets of Santa Ana, I looked out the window and began to realize that the mixture of people was no longer a mixture; there was only white.\n",
    " \n",
    "When we arrived at the warehouse, I had to peel my arm off the side of the hot door like a burnt sausage off a skillet. There were not many cars in the parking lot, and I could see the heat waves. As we walked up the boiling pavement, it felt like we were walking through a scorching desert. When we walked into the warehouse, there was a variety of electronic appliances to choose from, and about three-fourths of them were white (of course).\n",
    " \n",
    "About every 15 minutes, a salesperson followed us around and asked if we needed help, as if we were retarded or ex-cons. My mother really dislikes it when salespersons constantly ask if we need help; she feels if she needs their help, she’ll ask for it. Finally, after about two and a half boring hours of looking for any scratches or marks on the dryers and refrigerators that might fit best in our new apartment, my mother picked a dryer and refrigerator that were just right. She then let the salesperson know, and he replied with a smile, “All right, you can pick up your items in the back in about five minutes.” My mother said, “Thank you,” in a nice, friendly voice and walked across the scorched pavement to drive the truck to the back.\n",
    " \n",
    "When we got to the back, there were about three open spaces for picking up appliances. My mother chose the first parking spot she saw, which was by a white family’s car. Then she showed the employees the receipt for the appliances she had just bought. They said, “All right, we’ll be with you in just a minute.” While I waited for my mother, I looked over and smiled at the white lady in the next car, but instead of smiling back like a nice young woman, she frowned at me like I had something hanging from my nose. At first I thought, “Well, maybe she is having a bad day.” Then a few minutes later the people working at the warehouse started to look at my mother and me in a mean way. Then I figured that maybe something was on my face, but when I looked in the mirror, I saw nothing. At the time, I had only spent nine years and some months on this planet. I didn’t know racism was still around; I thought that situation had died along with Dr. King.\n",
    " \n",
    "Five minutes passed, then ten, then fifteen. We sat there watching people get their appliances and leave. We seemed invisible to them. As I sat in the car, burning up and listening to one of the most boring radio stations my mother could possibly like, I was thinking, “We’d better leave or else I’ll go ballistic!” After 30 minutes had passed, my mother got frustrated and politely asked to have our items loaded. Five more minutes passed, and she asked again with an attitude. They replied, “We’ll be with you in a minute, ma’am.” I could tell she was beginning to get upset because she started to get that “don’t bother me” look. Five minutes later they finally packed our appliances on the truck.\n",
    " \n",
    "When we left the warehouse, I described to my mother what the other people were doing. She explained, “They were racist. They didn’t like us because we have different skin color.”\n",
    " \n",
    "That was my first encounter with racism. It was just a small slice of reality—that everyone isn’t going to be as nice as you, your friends, and your family might be; and that just because you look nice and politely smile at others, it doesn’t mean that others will treat you the same. This situation made me feel very out of place and confused. I didn’t expect those people to react as they did. We are all civilized, intelligent, caring, peaceful people . . . or at least that is what I had believed.\n",
    " \n",
    "'''\n",
    "predicted_class = predict_text_class_lr(text_6,pipeline_lr)\n",
    "print(f\"The predicted class is: {predicted_class}\")"
   ]
  },
  {
   "cell_type": "code",
   "execution_count": 54,
   "metadata": {},
   "outputs": [
    {
     "name": "stdout",
     "output_type": "stream",
     "text": [
      "The predicted class is: Human written text\n"
     ]
    }
   ],
   "source": [
    "text_9 = '''In Autumn's embrace, leaves whisper to the ground,\n",
    "A tapestry of gold, red, and brown unfound.\n",
    "Beneath the crisp air, a quiet transformation,\n",
    "As nature prepares for winter's long vacation.\n",
    "'''\n",
    "predicted_class = predict_text_class_lr(text_9,pipeline_lr)\n",
    "print(f\"The predicted class is: {predicted_class}\")"
   ]
  },
  {
   "cell_type": "code",
   "execution_count": 55,
   "metadata": {},
   "outputs": [
    {
     "name": "stdout",
     "output_type": "stream",
     "text": [
      "The predicted class is: Human written text\n"
     ]
    }
   ],
   "source": [
    "text_4 = '''The environment encompasses the natural world, serving as a vital foundation for life on Earth. It's a complex web of ecosystems, where plants, animals, and microorganisms interact with the physical elements around them, from vast oceans and dense forests to arid deserts and towering mountains. Human activities, however, have placed unprecedented pressure on these natural systems, leading to climate change, loss of biodiversity, and pollution that threatens the delicate balance required for survival. Recognizing the urgent need for sustainability, societies worldwide are increasingly adopting green technologies and conservation practices, aiming to restore and protect the environment for future generations. This collective effort towards environmental stewardship highlights the deep connection between humans and the natural world, underscoring the importance of preserving our planet's health and diversity.'''\n",
    "predicted_class = predict_text_class_lr(text_4,pipeline_lr)\n",
    "print(f\"The predicted class is: {predicted_class}\")"
   ]
  },
  {
   "cell_type": "code",
   "execution_count": 73,
   "metadata": {},
   "outputs": [
    {
     "data": {
      "image/png": "[encoded data removed]",
      "text/plain": [
       "<Figure size 1440x1080 with 11 Axes>"
      ]
     },
     "metadata": {
      "needs_background": "light"
     },
     "output_type": "display_data"
    }
   ],
   "source": [
    "import matplotlib.pyplot as plt\n",
    "import seaborn as sns\n",
    "\n",
    "# Plot scatterplots for each numerical feature against the target variable\n",
    "numerical_features = ['verb_count', 'vocab_richness', 'GPE', 'punctuation_percentage',\n",
    "                      'ORG', 'CARDINAL', 'DATE', 'sentiment_polarity', 'readability',\n",
    "                      'TIME', 'sentiment_subjectivity']\n",
    "\n",
    "# Calculate the number of rows needed\n",
    "num_rows = (len(numerical_features) + 3) // 4  # Round up to the nearest integer\n",
    "\n",
    "# Set up the figure and axes\n",
    "fig, axes = plt.subplots(nrows=num_rows, ncols=4, figsize=(20, 5 * num_rows))\n",
    "\n",
    "# Flatten axes array for easy iteration\n",
    "axes = axes.flatten()\n",
    "\n",
    "# Plot scatterplots\n",
    "for i, feature in enumerate(numerical_features):\n",
    "    sns.scatterplot(x=X_train[feature], y=y_train, ax=axes[i])\n",
    "    axes[i].set_title(f'Scatterplot of {feature} vs Target')\n",
    "    axes[i].set_xlabel(feature)\n",
    "    axes[i].set_ylabel('Target')\n",
    "\n",
    "# Hide unused subplots\n",
    "for j in range(len(numerical_features), num_rows * 4):\n",
    "    fig.delaxes(axes[j])\n",
    "\n",
    "plt.tight_layout()\n",
    "plt.show()\n"
   ]
  },
  {
   "cell_type": "code",
   "execution_count": 74,
   "metadata": {},
   "outputs": [
    {
     "name": "stdout",
     "output_type": "stream",
     "text": [
      "Random Forest Accuracy: 0.9803\n"
     ]
    }
   ],
   "source": [
    "# Train the Random Forest model using the training data\n",
    "pipeline_rf.fit(X_train, y_train)\n",
    " \n",
    "# Predict and evaluate the model using the test data\n",
    "y_pred_rf = pipeline_rf.predict(X_test)\n",
    "print(f\"Random Forest Accuracy: {accuracy_score(y_test, y_pred_rf):.4f}\")"
   ]
  },
  {
   "cell_type": "code",
   "execution_count": 75,
   "metadata": {},
   "outputs": [],
   "source": [
    "# Prediction function\n",
    "def predict_text_class_rf(text, pipeline_rf):\n",
    "    # Preprocess the input text\n",
    "    cleaned_text = clean_message(text)\n",
    " \n",
    "    # Extract named entities counts\n",
    "    entities_counts = extract_named_entities_counts(cleaned_text)\n",
    " \n",
    "    # Generate additional features\n",
    "    features = {\n",
    "        'verb_count': verb_count(cleaned_text),\n",
    "        'vocab_richness': vocabulary_richness(cleaned_text),\n",
    "        'GPE': entities_counts.get('GPE', 0),\n",
    "        'punctuation_percentage': punctuation_percentage(cleaned_text),\n",
    "        'ORG': entities_counts.get('ORG', 0),\n",
    "        'CARDINAL': entities_counts.get('CARDINAL', 0),\n",
    "        'DATE': entities_counts.get('DATE', 0),\n",
    "        'sentiment_polarity': TextBlob(cleaned_text).sentiment.polarity,\n",
    "        'readability': textstat.flesch_reading_ease(cleaned_text),\n",
    "        'TIME': entities_counts.get('TIME', 0),\n",
    "        'sentence_length': sentence_length(cleaned_text),\n",
    "        'sentiment_subjectivity': TextBlob(cleaned_text).sentiment.subjectivity,\n",
    "        'cleaned_text': cleaned_text  # This is for TF-IDF transformation\n",
    "    }\n",
    " \n",
    "    # Create a DataFrame for the single observation\n",
    "    features_df = pd.DataFrame([features])\n",
    " \n",
    "    # Use the pipeline to predict the class\n",
    "    predicted_class = pipeline_rf.predict(features_df)[0]\n",
    "    \n",
    "    # Map predicted class to labels\n",
    "    if predicted_class == 0:\n",
    "        return \"Human written text\"\n",
    "    elif predicted_class == 1:\n",
    "        return \"AI generated text\"\n"
   ]
  },
  {
   "cell_type": "code",
   "execution_count": 76,
   "metadata": {},
   "outputs": [
    {
     "name": "stdout",
     "output_type": "stream",
     "text": [
      "The predicted class is: Human written text\n"
     ]
    }
   ],
   "source": [
    "# Example usage:\n",
    "text_example = ''' Dear Principle, I want to bring your attention to making students do community service. \n",
    "community service will teach the students how to be responsible, because they will have to be responsible for doing their community service, \n",
    "it will keep them out of trouble, because they have something else to do besides go to friends houses, and party, and they have something them, and their\n",
    "family can be proud of because they made their own decision to help the community. Certainly, If you decide to make the students do community service, \n",
    "they will become more responsible. For example, the students will have to be on time to their community service job and that will help them to be on time \n",
    "to other things in life. They will also have to be responsible and make sure they help the community, and not forget to do their job, which is like a normal\n",
    "kid doing homework in school. The student has to do their home work, and they can not forget. I think that community service will help them to also be more independent,\n",
    "because they have to do their own duty of something like picking up trash on school property, and they will not be able to have help because\n",
    "it is their own job. At home I am responsible for taking out the trash. That is my responsibility, even though it is the family trash. I take out the trash whenever it needs to be taken out, and I do not even get paid, just like a community service job. I do not always want to take out the trash but with community service, it shows me how if I am responsible I am not only helping myself, but the environment, and the people around me. Community service will also keep children out of trouble. Some students these days go to party's, and get grounded for several reasons. However, with community service the students will have something to do on their spare time which will lead to not getting in trouble, or being somewhere there not supposed to be. The students will have to be do the community service, but instead of being somewhere their parents can not contact them, they will be building a garden for a school, or helping little kids learn to read, Doesn't that sound better to you? If the students are feeling stressed out they know that they can attend to their community service job instead of doing something bad just to get the stress away. Of course the students could do a community service job with their friends, but the point is that they will be safe and doing something good for the community. Have you ever wanted to be the only subject at the diner table? The one your parents want to brag about to their friends? Well, I know I do. If you make the students do community service, their family would be so proud of them for stepping up and helping out. Maybe some kids do not do sports, so their parents do not have something to cheer at every weekend, but If a student came home to their family telling them how good they felt about doing community service that weekend, then the parents have something very special to cheer for. Parents of students want their children to do good in school, and if you consider making community service part of your school , then I am sure that you will be getting calls from parents saying thank-you for making my children do community service I am so proud and it has helped them so much. I know that if I helped out the community not only my parents would be proud, but I would be more than proud of myself. Keep in mind that Some of my friends have already started doing community service on their own, like tutoring elementary school children, and picking up liter on the streets, they told me that it has helped them so much,a nd I would like to be li Therefore, if you could get everyone in the school to do that then Don't forget it would make everyone have so much more responsibility, as well as they would stay out of trouble, and their family and them would be so proud. I think that it will change student is the most spectacular way, and I hope that you agree as well. Thank you, STUDENT_NAME '''\n",
    "predicted_class = predict_text_class_rf(text_example,pipeline_rf)\n",
    "print(f\"The predicted class is: {predicted_class}\")"
   ]
  },
  {
   "cell_type": "code",
   "execution_count": 77,
   "metadata": {},
   "outputs": [
    {
     "name": "stdout",
     "output_type": "stream",
     "text": [
      "The predicted class is: AI generated text\n"
     ]
    }
   ],
   "source": [
    "text_1= '''Most common societies expect students to identify a career by the age of 18 or 19. Personally, I think the best age to start figuring out a career path is as soon as one can. Young people are often faced with difficult decisions such as deciding which college to attend, or what job to pursue. When my parents gave me four years to decide on a career, I was overwhelmed and questioned if I was making the right decision. My advice to young people who are trying to figure out what career path to follow is to talk to mentors, explore different opportunities, and trust that you can make decisions that will help shape your future. '''\n",
    "predicted_class = predict_text_class_rf(text_1,pipeline_rf)\n",
    "print(f\"The predicted class is: {predicted_class}\")"
   ]
  },
  {
   "cell_type": "code",
   "execution_count": 78,
   "metadata": {},
   "outputs": [
    {
     "name": "stdout",
     "output_type": "stream",
     "text": [
      "The predicted class is: AI generated text\n"
     ]
    }
   ],
   "source": [
    "text_2= '''In recent years, technology has had a profound impact on our daily lives and the world around us. From staying connected with loved ones to ordering food online through an app, technology has made our lives easier and more convenient. However, with great\n",
    "power comes great responsibility, and technology can also have negative consequences if used improperly.\n",
    " \n",
    "One example of this is the spread of misinformation through the internet. It's easy to find articles and sources that may not be accurate or reliable, which can lead to confusion and even harm. Additionally, technology can also pose a threat to our privacy\n",
    "and security if we are not careful about the websites and apps we use.\n",
    " \n",
    "Despite these potential drawbacks, I believe that technology can be a powerful tool for achieving great things. For example, technology has revolutionized the way we learn and access information. With the internet, we can easily find resources and information\n",
    "on any topic, making it easier to stay informed and up-to-date on current events.\n",
    " \n",
    "Furthermore, technology has opened up new opportunities for collaboration and communication, allowing people from all over the world to work together and share ideas. This has led to many great achievements and innovations, and I believe that technology will\n",
    "continue to play a vital role in shaping our future.\n",
    " \n",
    "In conclusion, while technology has its drawbacks, I believe that its potential benefits far outweigh the risks. With responsible use and proper precautions, technology can be a powerful tool for achieving great things and improving our lives.\n",
    "'''\n",
    "predicted_class = predict_text_class_rf(text_2,pipeline_rf)\n",
    "print(f\"The predicted class is: {predicted_class}\")"
   ]
  },
  {
   "cell_type": "code",
   "execution_count": 79,
   "metadata": {},
   "outputs": [
    {
     "name": "stdout",
     "output_type": "stream",
     "text": [
      "The predicted class is: Human written text\n"
     ]
    }
   ],
   "source": [
    "text_3='''It may seem like a simple question, but there are actually many different answers to this question. Personally, I think that each student can benefit from joining in on an extracurricular. These may include clubs such as Soccer Club or Harry Potter Club, or maybe something like the school newspaper and Student Council. Each of these can provide a positive impact for every person who joins. I think that all students should participate in an extracurricular activity because they can help kids make and create new friendships, urge someone to develop a new skill, and encourage students to go outside of their comfort zone.\n",
    "One way an extracurricular activity can benefit a student is by helping them to create new friendships, or maybe become closer with someone they normally wouldn't. For example, I have a friend who is a member of the Nintendo Club at our school. She is the only girl in the club, yet she has made new and unexpected friends through this experience. There are many different types of people who come together for these activities, so when a person joins in they can meet someone who has the same interests and hobbies. Unexpected friendships can be born through the simple action of attending an extracurricular.\n",
    "A second positive outcome to participating in an extracurricular is the chance to develop a new skill. Another friend of mine loved to draw and write, but wasn't really a fan of sports. Recently, he decided to attend the Basketball Club and ended up loving it! He has continued to go to Basketball Club, and his skills have increased greatly. Although it may take some time, one can eventually develop a new and fun skill which they normally wouldn't have. Additionally, if someone has multiple skills and talents, that can increase their self esteem. A lot of students have insecurities and worry about not fitting in, however, when they gain a new skill this can boost the way they see themselves and increase their confidence.\n",
    "The last way a student can benefit from participating in an extracurricular is by encouraging them to step outside of their comfort zone. I think that going outside of your comfort zone is something most people are not comfortable with doing, including myself. Over the summer, my brother switched soccer teams and this was very hard for him. Between having to leave his old team behind and adjusting to the new atmosphere, this new change was very difficult for him. As time went on, and he kept pushing himself outside of his comfort zone, and he had acclimated and adapted to the new environment. Now, my brother is so happy that he decided to go beyond what he was used to and loves his team. Even though this situation wasn't about an¬†extracurricular, they are both related. When a student joins a new club, they may be very nervous. But when someone makes the decision to try something new and take that scary step outside of their comfort zone, there will be many rewards in return. One of which is when people try new things, it can lead them to be successful in the future and inspire others to do the same thing.\n",
    "To conclude, there are multiple benefits for a person who makes the choice to participate in an extracurricular. These include the chance to make new friends and meet new people, help students to develop a new skill, and urge someone to take a risk and go outside of their comfort zone. Although some may not want to try an extracurricular, it can impact them in so many positive ways. Should students participate in an extracurricular? I think yes, and if someone takes a risk and joins in on one, they might just think yes as well. '''\n",
    "predicted_class = predict_text_class_rf(text_3,pipeline_rf)\n",
    "print(f\"The predicted class is: {predicted_class}\")"
   ]
  },
  {
   "cell_type": "code",
   "execution_count": 80,
   "metadata": {},
   "outputs": [
    {
     "name": "stdout",
     "output_type": "stream",
     "text": [
      "The predicted class is: Human written text\n"
     ]
    }
   ],
   "source": [
    "text_5 = '''A dictionary contains a definition of friendship somewhere in the F’s between the words “fear” and “Friday.” An encyclopedia supplies interesting facts on friendship. But all the definitions and facts do not convey what friendship is really all about. It cannot be understood through words or exaggerations. The only way to understand friendship is through experience. It is an experience that involves all the senses.\n",
    " \n",
    "Friendship can be seen. It is seen in an old couple sitting in the park holding hands. It is the way they touch, a touch as light as a leaf floating in the autumn air, a touch so strong that years of living could not pull them apart. Friendship is seen in a child freely sharing the last cookie. It is the small arm over the shoulder of another as they walk on the playground. Seeing friendship is not casual. It is watching for subtlety, but friendship is there for eyes that can see.\n",
    " \n",
    "Friendship can be heard. It is heard in the words of two friends who squeezed in lunch together on an extremely busy day. It is the way they talk to each other, not the words. Their tone is unique. Friendship can be heard by those willing to listen.\n",
    " \n",
    "Friendship is felt in a touch. It is a pat on the back from a teammate, a high five between classes, the slimy, wet kiss from the family dog. It’s a touch that reassures that someone is there, someone who cares. The touch communicates more than words or gestures. It is instantly understood and speaks volumes beyond the point of contact, to the heart.\n",
    " \n",
    "Friendship has a taste. It tastes like homemade bread, the ingredients all measured and planned, then carefully mixed and kneaded, then the quiet waiting as the dough rises. Hot from the oven, the bread tastes more than the sum of its ingredients. There is something else there, perhaps the thoughts of the baker as her hands knead the dough, or her patience as she waits for the dough to rise. Unseen and unmeasured, this is the ingredient that makes the difference. Warm, fresh from the oven with a little butter, the difference you taste is friendship.\n",
    " \n",
    "Friendship has a smell. It smells like the slightly burnt cookies your brother made especially for you. It smells like your home when stepping into it after being away for a long time. It smells like a sandbox or a sweaty gym. Friendship has a variety of smells. Taken for granted at the moment, they define the memory of friendship.\n",
    " \n",
    "Finally, more than the other senses, friendship is an experience of the heart. It is the language of the heart—a language without words, vowels, or consonants; a language that, whether seen, felt, heard, or tasted, is understood by the heart. Like air fills the lungs, friendship fills the heart, allowing us to experience the best life has to offer: a friend.'''\n",
    "predicted_class = predict_text_class_rf(text_5,pipeline_rf)\n",
    "print(f\"The predicted class is: {predicted_class}\")"
   ]
  },
  {
   "cell_type": "code",
   "execution_count": 81,
   "metadata": {},
   "outputs": [
    {
     "name": "stdout",
     "output_type": "stream",
     "text": [
      "The predicted class is: Human written text\n"
     ]
    }
   ],
   "source": [
    "text_6 = '''It was a beautiful August morning. The sun was brightly shining on my sunglasses while my mother drove the U-haul truck to a warehouse in Santa Ana, California. As my mother drove down the streets of Santa Ana, I looked out the window and began to realize that the mixture of people was no longer a mixture; there was only white.\n",
    " \n",
    "When we arrived at the warehouse, I had to peel my arm off the side of the hot door like a burnt sausage off a skillet. There were not many cars in the parking lot, and I could see the heat waves. As we walked up the boiling pavement, it felt like we were walking through a scorching desert. When we walked into the warehouse, there was a variety of electronic appliances to choose from, and about three-fourths of them were white (of course).\n",
    " \n",
    "About every 15 minutes, a salesperson followed us around and asked if we needed help, as if we were retarded or ex-cons. My mother really dislikes it when salespersons constantly ask if we need help; she feels if she needs their help, she’ll ask for it. Finally, after about two and a half boring hours of looking for any scratches or marks on the dryers and refrigerators that might fit best in our new apartment, my mother picked a dryer and refrigerator that were just right. She then let the salesperson know, and he replied with a smile, “All right, you can pick up your items in the back in about five minutes.” My mother said, “Thank you,” in a nice, friendly voice and walked across the scorched pavement to drive the truck to the back.\n",
    " \n",
    "When we got to the back, there were about three open spaces for picking up appliances. My mother chose the first parking spot she saw, which was by a white family’s car. Then she showed the employees the receipt for the appliances she had just bought. They said, “All right, we’ll be with you in just a minute.” While I waited for my mother, I looked over and smiled at the white lady in the next car, but instead of smiling back like a nice young woman, she frowned at me like I had something hanging from my nose. At first I thought, “Well, maybe she is having a bad day.” Then a few minutes later the people working at the warehouse started to look at my mother and me in a mean way. Then I figured that maybe something was on my face, but when I looked in the mirror, I saw nothing. At the time, I had only spent nine years and some months on this planet. I didn’t know racism was still around; I thought that situation had died along with Dr. King.\n",
    " \n",
    "Five minutes passed, then ten, then fifteen. We sat there watching people get their appliances and leave. We seemed invisible to them. As I sat in the car, burning up and listening to one of the most boring radio stations my mother could possibly like, I was thinking, “We’d better leave or else I’ll go ballistic!” After 30 minutes had passed, my mother got frustrated and politely asked to have our items loaded. Five more minutes passed, and she asked again with an attitude. They replied, “We’ll be with you in a minute, ma’am.” I could tell she was beginning to get upset because she started to get that “don’t bother me” look. Five minutes later they finally packed our appliances on the truck.\n",
    " \n",
    "When we left the warehouse, I described to my mother what the other people were doing. She explained, “They were racist. They didn’t like us because we have different skin color.”\n",
    " \n",
    "That was my first encounter with racism. It was just a small slice of reality—that everyone isn’t going to be as nice as you, your friends, and your family might be; and that just because you look nice and politely smile at others, it doesn’t mean that others will treat you the same. This situation made me feel very out of place and confused. I didn’t expect those people to react as they did. We are all civilized, intelligent, caring, peaceful people . . . or at least that is what I had believed.\n",
    " \n",
    "'''\n",
    "predicted_class = predict_text_class_rf(text_6,pipeline_rf)\n",
    "print(f\"The predicted class is: {predicted_class}\")"
   ]
  },
  {
   "cell_type": "code",
   "execution_count": 82,
   "metadata": {},
   "outputs": [
    {
     "name": "stdout",
     "output_type": "stream",
     "text": [
      "The predicted class is: AI generated text\n"
     ]
    }
   ],
   "source": [
    "text_9 = '''In Autumn's embrace, leaves whisper to the ground,\n",
    "A tapestry of gold, red, and brown unfound.\n",
    "Beneath the crisp air, a quiet transformation,\n",
    "As nature prepares for winter's long vacation.\n",
    "'''\n",
    "predicted_class = predict_text_class_rf(text_9,pipeline_rf)\n",
    "print(f\"The predicted class is: {predicted_class}\")"
   ]
  },
  {
   "cell_type": "code",
   "execution_count": 83,
   "metadata": {},
   "outputs": [
    {
     "name": "stdout",
     "output_type": "stream",
     "text": [
      "The predicted class is: AI generated text\n"
     ]
    }
   ],
   "source": [
    "text_4 = '''The environment encompasses the natural world, serving as a vital foundation for life on Earth. It's a complex web of ecosystems, where plants, animals, and microorganisms interact with the physical elements around them, from vast oceans and dense forests to arid deserts and towering mountains. Human activities, however, have placed unprecedented pressure on these natural systems, leading to climate change, loss of biodiversity, and pollution that threatens the delicate balance required for survival. Recognizing the urgent need for sustainability, societies worldwide are increasingly adopting green technologies and conservation practices, aiming to restore and protect the environment for future generations. This collective effort towards environmental stewardship highlights the deep connection between humans and the natural world, underscoring the importance of preserving our planet's health and diversity.'''\n",
    "predicted_class = predict_text_class_rf(text_4,pipeline_rf)\n",
    "print(f\"The predicted class is: {predicted_class}\")"
   ]
  },
  {
   "cell_type": "code",
   "execution_count": 84,
   "metadata": {},
   "outputs": [
    {
     "name": "stdout",
     "output_type": "stream",
     "text": [
      "The predicted class is: Human written text\n"
     ]
    }
   ],
   "source": [
    "text_7 = '''To: Heidi Larson\n",
    " \n",
    "Dear Dr. Larson:\n",
    " \n",
    "Your accountant, Rusty Silhacek, is my neighbor. He mentioned that your office stays very busy, so I wondered if you could use some extra help. I would like to apply for a position as a part-time veterinary assistant.\n",
    " \n",
    "As far as animal care goes, I’m experienced in feeding, bathing, exercising, and cleaning up after small and large animals. I truly love animals and have always given them special attention and care. I would be available to help after school and on weekends.\n",
    " \n",
    "I would be happy to come in for an interview at your convenience. You can contact me any weekday after 3:00 p.m. at 523-4418. Thank you for considering my application.\n",
    " \n",
    "Sincerely,\n",
    " \n",
    "Andrea Rodriguez'''\n",
    "predicted_class = predict_text_class_rf(text_7,pipeline_rf)\n",
    "print(f\"The predicted class is: {predicted_class}\")"
   ]
  },
  {
   "cell_type": "code",
   "execution_count": 85,
   "metadata": {},
   "outputs": [
    {
     "name": "stdout",
     "output_type": "stream",
     "text": [
      "The predicted class is: Human written text\n"
     ]
    }
   ],
   "source": [
    "text_8 = '''Something happens inside of me when I listen to the music of the Counting Crows. Raw, uncensored emotion pours from the mouth of lead singer Adam Duritz. His voice seems to naturally synthesize with the background music of guitars, pianos, organs, drums, and accordions.\n",
    " \n",
    "When Adam sings, it’s as if he’s ripped open his chest and is exposing his heart and all of its contents, regardless of the cost, because that’s how much his emotions mean to him.\n",
    " \n",
    "The words of Adam’s self-written songs (lyrics and piano music) can speak to anybody and convey a vivid mental picture of the mood present in the music. The band’s music and Adam’s lyrics are best described in the following quote from Ean, a fan from www.annabegins.com:\n",
    " \n",
    "Take autumn, with all its leaves falling off of the trees, and the green turning to gold . . . and then the sodden brown of winter, the coming chill in the air, the sudden clarity of the moon at night, the aching melancholy felt as summer rolls away behind you, and the world of winter wraps itself around you. If you could take all of this, and all that it means and suggests, and turn it into music, you would have the Counting Crows.\n",
    " \n",
    "Adam Duritz was born in Baltimore, Maryland, but lived in Boston, Denver, and Dallas before settling down with his family in San Francisco. Before leading the Crows, Adam was an English major at the University of California at Davis and at Berkeley in the late ’80s. He quit school without turning in his thesis because he thought that it wasn’t very good. Between the time he dropped out of school and formed the band, Adam worked a wide array of jobs, getting fired from each one.\n",
    " \n",
    "An insomniac, Adam has had plenty of idle time to be productive. He claims that his inability to sleep is due to his uneasiness about letting go of consciousness. He says he can’t allow himself to do it. During sleepless nights, Adam’s true poetic genius takes over. He just lets himself go, pouring onto paper thoughts about his past relationships and other memories.\n",
    " \n",
    "Any avid listener will notice that a few recurring metaphors are present in Adam’s songs: that memories are ghosts and relationships are trains. The first of these two metaphors is pretty self-explanatory; however, the second needs some explanation. Adam believes that getting into a realtionship is similar to boarding a train and riding to a final destination with the other person. He feels that in order to be in a relationship, one must be willing and able to live with the other person’s ghosts.\n",
    " \n",
    "It’s quite a beautiful concept about the trains. In his song “Ghost Train,” Adam sings, “Love is like a ghost train rumbling through the darkness. Remember everything when only memory remains.” Love carries us away with another person, building memories together and taking us to a common destination.\n",
    " \n",
    "Another characteristic that an avid Crows listener will notice is that Adam often sings about particular women. There’s Maria, Elizabeth, Amy, Anna, Shannon, Amanda, Lisa, and Margery, just to name a few. The two who appear most frequently in Adam’s lyrics are Maria and Elizabeth. Adam has said in interviews that Maria is like the female version of himself. He uses this fictional character in his songs when he wants to express his thoughts but not make it apparent that the song is about him. (However, he has said that most of his songs are about him or his experiences because that’s all he knows.) Elizabeth is an ex-girlfriend of Adam’s. They were a couple when the Crows caught their first true glimpse of fame. Elizabeth was in college at the time that Adam was on the road touring. She was obsessed with the fear that Adam was cheating on her (which he claims he wasn’t). As in most cases, the long-distance relationship didn’t work out.\n",
    " \n",
    "Adam comments that the breakup was for the best; however, his songs including Elizabeth indicate otherwise. The song “I Wish I Was a Girl” on the album This Desert Life is about Adam’s desire to make Elizabeth realize that he was faithful to her during the time that he was away. There’s a double standard when girls say that they were faithful and they’re generally believed, but when guys say it, nobody believes them. Another song, “Goodnight Elizabeth,” from the album Recovering the Satellites is Adam’s lullaby dedicated to Elizabeth. The lyrics basically express that Adam will always carry a piece of Elizabeth with him. The lyrics say, “I wish you were inside of me/I hope that you’re OK/I hope you’re resting quietly/I just wanted to say/Goodnight, Elizabeth, goodnight.” He says \"goodnight\" instead of \"goodbye.\"\n",
    " \n",
    "He refers to himself as the king of the rain in a few songs, much like Jim Morrison is also known as the Lizard King. I’ve tried to figure out what this rain symbolism means, and my hypothesis is that rain could mean tears or just a bad situation. Possibly he feels that he inadvertently causes a lot of problems for the people he cares about. As he sings in the song “Chelsea,” “The things I do to people I love just shouldn’t be allowed.” As much as he needs others, he may not be good for them.\n",
    " \n",
    "He is quite absorbed in his own feelings, which is sometimes interpreted as egotism, but I get the impression that he’s unsure of his true identity and doesn’t really believe in himself. Since he is very sensitive and constantly searching his soul, he’s become infatuated with his own feelings. He’s absorbed in feelings, and I think that people have interpreted that infatuation as egotism.\n",
    " \n",
    "Adam’s poetic lyrics move me to the depths of my soul. With just a few words and the emotion in his voice, he can make me feel as if there is a starry summer night inside of me . . . or a lonely, empty hotel room. There is nostalgia behind his lyrics and a canvas painted with love, loneliness, devotion, and disappointment.\n",
    " \n",
    "During the production of the band’s first album, Adam’s most important goal was to “make a mark upon the world.” If it’s worth anything, he’s made more than just a mark upon my world; he has painted me a sky and filled it with stars.'''\n",
    "predicted_class = predict_text_class_rf(text_8,pipeline_rf)\n",
    "print(f\"The predicted class is: {predicted_class}\")"
   ]
  },
  {
   "cell_type": "code",
   "execution_count": 86,
   "metadata": {},
   "outputs": [
    {
     "name": "stdout",
     "output_type": "stream",
     "text": [
      "The predicted class is: Human written text\n"
     ]
    }
   ],
   "source": [
    "text_9 = '''In statistics, we generally want to study a population. You can think of a population as a collection of persons, things, or objects under study. To study the population, we select a sample. The idea of sampling is to select a portion (or subset) of the larger population and study that portion (the sample) to gain information about the population. Data are the result of sampling from a population.\n",
    "Because it takes a lot of time and money to examine an entire population, sampling is a very practical technique. If you wished to compute the overall grade point average at your school, it would make sense to select a sample of students who attend the school. The data collected from the sample would be the students' grade point averages.'''\n",
    "predicted_class = predict_text_class_rf(text_9,pipeline_rf)\n",
    "print(f\"The predicted class is: {predicted_class}\")"
   ]
  }
 ],
 "metadata": {
  "colab": {
   "provenance": []
  },
  "kernelspec": {
   "display_name": "Python 3 (ipykernel)",
   "language": "python",
   "name": "python3"
  },
  "language_info": {
   "codemirror_mode": {
    "name": "ipython",
    "version": 3
   },
   "file_extension": ".py",
   "mimetype": "text/x-python",
   "name": "python",
   "nbconvert_exporter": "python",
   "pygments_lexer": "ipython3",
   "version": "3.9.12"
  }
 },
 "nbformat": 4,
 "nbformat_minor": 4
}
